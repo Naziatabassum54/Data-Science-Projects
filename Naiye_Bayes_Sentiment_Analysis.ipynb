{
 "cells": [
  {
   "cell_type": "code",
   "execution_count": 91,
   "id": "c68c6390",
   "metadata": {},
   "outputs": [],
   "source": [
    "import numpy as np\n",
    "import pandas as pd\n"
   ]
  },
  {
   "cell_type": "code",
   "execution_count": 92,
   "id": "7246519b",
   "metadata": {},
   "outputs": [],
   "source": [
    "df=pd.read_csv(\"C:\\\\Users\\\\HP\\\\Desktop\\\\Datasets\\\\sent_analysis.csv\")"
   ]
  },
  {
   "cell_type": "code",
   "execution_count": 93,
   "id": "9b900c97",
   "metadata": {},
   "outputs": [
    {
     "data": {
      "text/html": [
       "<div>\n",
       "<style scoped>\n",
       "    .dataframe tbody tr th:only-of-type {\n",
       "        vertical-align: middle;\n",
       "    }\n",
       "\n",
       "    .dataframe tbody tr th {\n",
       "        vertical-align: top;\n",
       "    }\n",
       "\n",
       "    .dataframe thead th {\n",
       "        text-align: right;\n",
       "    }\n",
       "</style>\n",
       "<table border=\"1\" class=\"dataframe\">\n",
       "  <thead>\n",
       "    <tr style=\"text-align: right;\">\n",
       "      <th></th>\n",
       "      <th>class</th>\n",
       "      <th>text</th>\n",
       "    </tr>\n",
       "  </thead>\n",
       "  <tbody>\n",
       "  </tbody>\n",
       "</table>\n",
       "</div>"
      ],
      "text/plain": [
       "Empty DataFrame\n",
       "Columns: [class, text]\n",
       "Index: []"
      ]
     },
     "execution_count": 93,
     "metadata": {},
     "output_type": "execute_result"
    }
   ],
   "source": [
    "df[df[\"class\"]==\"pos\"]"
   ]
  },
  {
   "cell_type": "code",
   "execution_count": 94,
   "id": "081da89e",
   "metadata": {},
   "outputs": [],
   "source": [
    "df=df.sample(frac=1)"
   ]
  },
  {
   "cell_type": "code",
   "execution_count": 95,
   "id": "e939529f",
   "metadata": {},
   "outputs": [
    {
     "data": {
      "text/html": [
       "<div>\n",
       "<style scoped>\n",
       "    .dataframe tbody tr th:only-of-type {\n",
       "        vertical-align: middle;\n",
       "    }\n",
       "\n",
       "    .dataframe tbody tr th {\n",
       "        vertical-align: top;\n",
       "    }\n",
       "\n",
       "    .dataframe thead th {\n",
       "        text-align: right;\n",
       "    }\n",
       "</style>\n",
       "<table border=\"1\" class=\"dataframe\">\n",
       "  <thead>\n",
       "    <tr style=\"text-align: right;\">\n",
       "      <th></th>\n",
       "      <th>class</th>\n",
       "      <th>text</th>\n",
       "    </tr>\n",
       "  </thead>\n",
       "  <tbody>\n",
       "    <tr>\n",
       "      <th>1955</th>\n",
       "      <td>Neg</td>\n",
       "      <td>words i thought i d never write   the sequel ...</td>\n",
       "    </tr>\n",
       "    <tr>\n",
       "      <th>1427</th>\n",
       "      <td>Neg</td>\n",
       "      <td>mandingo   has traditionally been seen as ...</td>\n",
       "    </tr>\n",
       "    <tr>\n",
       "      <th>424</th>\n",
       "      <td>Pos</td>\n",
       "      <td>i can sum up first strike in one word   aweso...</td>\n",
       "    </tr>\n",
       "    <tr>\n",
       "      <th>186</th>\n",
       "      <td>Pos</td>\n",
       "      <td>i ve never been a member of the robin william...</td>\n",
       "    </tr>\n",
       "    <tr>\n",
       "      <th>1666</th>\n",
       "      <td>Neg</td>\n",
       "      <td>when a pair of films from the same director g...</td>\n",
       "    </tr>\n",
       "    <tr>\n",
       "      <th>...</th>\n",
       "      <td>...</td>\n",
       "      <td>...</td>\n",
       "    </tr>\n",
       "    <tr>\n",
       "      <th>1335</th>\n",
       "      <td>Neg</td>\n",
       "      <td>the most interesting thing about virus is tha...</td>\n",
       "    </tr>\n",
       "    <tr>\n",
       "      <th>1790</th>\n",
       "      <td>Neg</td>\n",
       "      <td>america s favorite homicidal plaything takes ...</td>\n",
       "    </tr>\n",
       "    <tr>\n",
       "      <th>1606</th>\n",
       "      <td>Neg</td>\n",
       "      <td>filmmakers will use all manner of tricks to f...</td>\n",
       "    </tr>\n",
       "    <tr>\n",
       "      <th>189</th>\n",
       "      <td>Pos</td>\n",
       "      <td>part one of   the strangest movies ever made ...</td>\n",
       "    </tr>\n",
       "    <tr>\n",
       "      <th>1324</th>\n",
       "      <td>Neg</td>\n",
       "      <td>i wish more films would take on issues of fai...</td>\n",
       "    </tr>\n",
       "  </tbody>\n",
       "</table>\n",
       "<p>2000 rows × 2 columns</p>\n",
       "</div>"
      ],
      "text/plain": [
       "     class                                               text\n",
       "1955   Neg   words i thought i d never write   the sequel ...\n",
       "1427   Neg      mandingo   has traditionally been seen as ...\n",
       "424    Pos   i can sum up first strike in one word   aweso...\n",
       "186    Pos   i ve never been a member of the robin william...\n",
       "1666   Neg   when a pair of films from the same director g...\n",
       "...    ...                                                ...\n",
       "1335   Neg   the most interesting thing about virus is tha...\n",
       "1790   Neg   america s favorite homicidal plaything takes ...\n",
       "1606   Neg   filmmakers will use all manner of tricks to f...\n",
       "189    Pos   part one of   the strangest movies ever made ...\n",
       "1324   Neg   i wish more films would take on issues of fai...\n",
       "\n",
       "[2000 rows x 2 columns]"
      ]
     },
     "execution_count": 95,
     "metadata": {},
     "output_type": "execute_result"
    }
   ],
   "source": [
    "df"
   ]
  },
  {
   "cell_type": "code",
   "execution_count": 96,
   "id": "15ce38ad",
   "metadata": {},
   "outputs": [],
   "source": [
    "df=df.sample(frac=1)"
   ]
  },
  {
   "cell_type": "code",
   "execution_count": 97,
   "id": "11f87c38",
   "metadata": {},
   "outputs": [],
   "source": [
    "X=df[\"text\"]"
   ]
  },
  {
   "cell_type": "code",
   "execution_count": 98,
   "id": "351673ee",
   "metadata": {},
   "outputs": [],
   "source": [
    "y=df[\"class\"]"
   ]
  },
  {
   "cell_type": "code",
   "execution_count": 99,
   "id": "a3294f38",
   "metadata": {},
   "outputs": [],
   "source": [
    "from sklearn.model_selection import train_test_split"
   ]
  },
  {
   "cell_type": "code",
   "execution_count": 100,
   "id": "f8246904",
   "metadata": {},
   "outputs": [],
   "source": [
    "Xtrain,Xtest,ytrain,ytest=train_test_split(X,y,test_size=0.20)"
   ]
  },
  {
   "cell_type": "code",
   "execution_count": 101,
   "id": "1e97fff5",
   "metadata": {},
   "outputs": [],
   "source": [
    "from sklearn.feature_extraction.text import CountVectorizer,TfidfTransformer"
   ]
  },
  {
   "cell_type": "code",
   "execution_count": 102,
   "id": "750d2e3a",
   "metadata": {},
   "outputs": [],
   "source": [
    "cv=CountVectorizer()"
   ]
  },
  {
   "cell_type": "code",
   "execution_count": 103,
   "id": "f309ae62",
   "metadata": {},
   "outputs": [
    {
     "data": {
      "text/plain": [
       "CountVectorizer()"
      ]
     },
     "execution_count": 103,
     "metadata": {},
     "output_type": "execute_result"
    }
   ],
   "source": [
    "cv.fit(Xtrain)"
   ]
  },
  {
   "cell_type": "code",
   "execution_count": 104,
   "id": "f9e41b8b",
   "metadata": {},
   "outputs": [],
   "source": [
    "Xtrain_cv=cv.transform(Xtrain)"
   ]
  },
  {
   "cell_type": "code",
   "execution_count": 105,
   "id": "d212a895",
   "metadata": {},
   "outputs": [],
   "source": [
    "tfid=TfidfTransformer()"
   ]
  },
  {
   "cell_type": "code",
   "execution_count": 106,
   "id": "b26232b7",
   "metadata": {},
   "outputs": [
    {
     "data": {
      "text/plain": [
       "TfidfTransformer()"
      ]
     },
     "execution_count": 106,
     "metadata": {},
     "output_type": "execute_result"
    }
   ],
   "source": [
    "tfid.fit(Xtrain_cv)"
   ]
  },
  {
   "cell_type": "code",
   "execution_count": 107,
   "id": "21eb4701",
   "metadata": {},
   "outputs": [],
   "source": [
    "Xtrain_tfid=tfid.transform(Xtrain_cv)"
   ]
  },
  {
   "cell_type": "code",
   "execution_count": 108,
   "id": "18cb6991",
   "metadata": {},
   "outputs": [],
   "source": [
    "from sklearn.naive_bayes import MultinomialNB "
   ]
  },
  {
   "cell_type": "code",
   "execution_count": 109,
   "id": "473e7d5a",
   "metadata": {},
   "outputs": [],
   "source": [
    "m=MultinomialNB()"
   ]
  },
  {
   "cell_type": "code",
   "execution_count": 110,
   "id": "01879db3",
   "metadata": {},
   "outputs": [
    {
     "data": {
      "text/plain": [
       "MultinomialNB()"
      ]
     },
     "execution_count": 110,
     "metadata": {},
     "output_type": "execute_result"
    }
   ],
   "source": [
    "m.fit(Xtrain_tfid,ytrain)"
   ]
  },
  {
   "cell_type": "code",
   "execution_count": 111,
   "id": "921983a3",
   "metadata": {},
   "outputs": [],
   "source": [
    "Xtest_cv=cv.transform(Xtest)"
   ]
  },
  {
   "cell_type": "code",
   "execution_count": 112,
   "id": "58321bf1",
   "metadata": {},
   "outputs": [],
   "source": [
    "Xtest_tfid=tfid.transform(Xtest_cv)"
   ]
  },
  {
   "cell_type": "code",
   "execution_count": 113,
   "id": "aa07186a",
   "metadata": {},
   "outputs": [
    {
     "data": {
      "text/plain": [
       "0.795"
      ]
     },
     "execution_count": 113,
     "metadata": {},
     "output_type": "execute_result"
    }
   ],
   "source": [
    "m.score(Xtest_tfid,ytest)"
   ]
  },
  {
   "cell_type": "code",
   "execution_count": 114,
   "id": "9ec7af0c",
   "metadata": {},
   "outputs": [],
   "source": [
    "str=\"They pay good salary but work environment is not good\""
   ]
  },
  {
   "cell_type": "code",
   "execution_count": 115,
   "id": "2ca41f1f",
   "metadata": {},
   "outputs": [],
   "source": [
    "str_cv=cv.transform([str])"
   ]
  },
  {
   "cell_type": "code",
   "execution_count": 116,
   "id": "ed7341ce",
   "metadata": {},
   "outputs": [],
   "source": [
    "str_tfid=tfid.transform(str_cv)"
   ]
  },
  {
   "cell_type": "code",
   "execution_count": 117,
   "id": "ebd91fd9",
   "metadata": {},
   "outputs": [],
   "source": [
    "pred=m.predict(str_tfid)"
   ]
  },
  {
   "cell_type": "code",
   "execution_count": 118,
   "id": "ebcdfcfe",
   "metadata": {},
   "outputs": [
    {
     "name": "stdout",
     "output_type": "stream",
     "text": [
      "Positive Sentiment\n"
     ]
    }
   ],
   "source": [
    "if pred[0]==\"neg\":\n",
    "    print(\"Negative Sentiment\")\n",
    "else:\n",
    "    print(\"Positive Sentiment\")\n",
    "    "
   ]
  },
  {
   "cell_type": "markdown",
   "id": "25d1f517",
   "metadata": {},
   "source": [
    "# function-----for sentiment Analysis"
   ]
  },
  {
   "cell_type": "code",
   "execution_count": 119,
   "id": "2f133aa4",
   "metadata": {},
   "outputs": [],
   "source": [
    "def senti_fun(s):\n",
    "    s1_cv=cv.transform([s])\n",
    "    s1_tfid=tfid.transform(s1_cv)\n",
    "    pred=m.predict(s1_tfid)\n",
    "    if pred==\"neg\":\n",
    "        return \"Negative Sentiment\"\n",
    "    else:\n",
    "        return \"Positive Sentiment\""
   ]
  },
  {
   "cell_type": "code",
   "execution_count": 120,
   "id": "9ea3d2b3",
   "metadata": {},
   "outputs": [
    {
     "name": "stdout",
     "output_type": "stream",
     "text": [
      "Enter a sentence  Hello...\n"
     ]
    },
    {
     "data": {
      "text/plain": [
       "'Positive Sentiment'"
      ]
     },
     "execution_count": 120,
     "metadata": {},
     "output_type": "execute_result"
    }
   ],
   "source": [
    "sentence=input(\"Enter a sentence  \")\n",
    "senti_fun(sentence)"
   ]
  },
  {
   "cell_type": "code",
   "execution_count": null,
   "id": "2c22b3de",
   "metadata": {},
   "outputs": [],
   "source": []
  }
 ],
 "metadata": {
  "kernelspec": {
   "display_name": "Python 3 (ipykernel)",
   "language": "python",
   "name": "python3"
  },
  "language_info": {
   "codemirror_mode": {
    "name": "ipython",
    "version": 3
   },
   "file_extension": ".py",
   "mimetype": "text/x-python",
   "name": "python",
   "nbconvert_exporter": "python",
   "pygments_lexer": "ipython3",
   "version": "3.9.7"
  }
 },
 "nbformat": 4,
 "nbformat_minor": 5
}
